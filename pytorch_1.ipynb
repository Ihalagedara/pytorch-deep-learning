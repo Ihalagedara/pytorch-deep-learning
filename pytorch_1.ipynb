{
  "nbformat": 4,
  "nbformat_minor": 0,
  "metadata": {
    "colab": {
      "provenance": [],
      "gpuType": "T4"
    },
    "kernelspec": {
      "name": "python3",
      "display_name": "Python 3"
    },
    "language_info": {
      "name": "python"
    },
    "accelerator": "GPU"
  },
  "cells": [
    {
      "cell_type": "code",
      "execution_count": 1,
      "metadata": {
        "id": "kM4eVVCLNORn"
      },
      "outputs": [],
      "source": [
        "import torch"
      ]
    },
    {
      "cell_type": "markdown",
      "source": [
        "f(x) = w*x+b"
      ],
      "metadata": {
        "id": "dJzF9IZgNqXf"
      }
    },
    {
      "cell_type": "markdown",
      "source": [
        "gradiant decend"
      ],
      "metadata": {
        "id": "np2Fu8acQSPE"
      }
    },
    {
      "cell_type": "code",
      "source": [
        "x = torch.tensor([1,2,3,4,5,6,7,8,9], dtype=torch.float32)\n",
        "y = torch.tensor([2,4,6,8,10,12,14,16,18], dtype=torch.float32)"
      ],
      "metadata": {
        "id": "tCvDOGlvNUyj"
      },
      "execution_count": 2,
      "outputs": []
    },
    {
      "cell_type": "code",
      "source": [
        "w = torch.tensor(0.0, dtype=torch.float32, requires_grad=True)\n",
        "#b = torch.tensor(0.0, dtype=torch.float32, requires_grad=True)"
      ],
      "metadata": {
        "id": "lt-ELM_fNwZe"
      },
      "execution_count": 12,
      "outputs": []
    },
    {
      "cell_type": "code",
      "source": [
        "def forward(x):\n",
        "  return (w*x)"
      ],
      "metadata": {
        "id": "0O9gXsDbOB0n"
      },
      "execution_count": 13,
      "outputs": []
    },
    {
      "cell_type": "code",
      "source": [
        "def loss(y, y_pred):\n",
        "  return ((y_pred-y)**2).mean()"
      ],
      "metadata": {
        "id": "OP4k8ITIOIPt"
      },
      "execution_count": 14,
      "outputs": []
    },
    {
      "cell_type": "code",
      "source": [
        "learning_rate = 0.01\n",
        "n_epochs = 100"
      ],
      "metadata": {
        "id": "E5OBiRFmOM5i"
      },
      "execution_count": 15,
      "outputs": []
    },
    {
      "cell_type": "code",
      "source": [
        "x_test = 19"
      ],
      "metadata": {
        "id": "eBrdtuWmPzSs"
      },
      "execution_count": 16,
      "outputs": []
    },
    {
      "cell_type": "code",
      "source": [
        "for epoch in range(n_epochs):\n",
        "\n",
        "  y_pred = forward(x)\n",
        "\n",
        "  l = loss(y, y_pred)\n",
        "\n",
        "  l.backward()\n",
        "\n",
        "  with torch.no_grad():\n",
        "    w -= learning_rate*w.grad\n",
        "    #b -= learning_rate*b.grad\n",
        "\n",
        "  w.grad.zero_()\n",
        "  b.grad.zero_()\n",
        "\n",
        "  if (epoch+1) % 10 == 0:\n",
        "    print(f\"epoch {epoch+1}: w = {w.item():.3f}, loss = {l.item():.3f}\")\n",
        "\n",
        "print(f'prediction after traainig: f{[x_test]} = {forward(x_test).item():.3f}')\n",
        ""
      ],
      "metadata": {
        "colab": {
          "base_uri": "https://localhost:8080/"
        },
        "id": "h_tbwUj2OXkm",
        "outputId": "392f0acc-3404-4acc-886b-7c01f0209fcb"
      },
      "execution_count": 17,
      "outputs": [
        {
          "output_type": "stream",
          "name": "stdout",
          "text": [
            "epoch 10: w = 2.000, loss = 0.000\n",
            "epoch 20: w = 2.000, loss = 0.000\n",
            "epoch 30: w = 2.000, loss = 0.000\n",
            "epoch 40: w = 2.000, loss = 0.000\n",
            "epoch 50: w = 2.000, loss = 0.000\n",
            "epoch 60: w = 2.000, loss = 0.000\n",
            "epoch 70: w = 2.000, loss = 0.000\n",
            "epoch 80: w = 2.000, loss = 0.000\n",
            "epoch 90: w = 2.000, loss = 0.000\n",
            "epoch 100: w = 2.000, loss = 0.000\n",
            "prediction after traainig: f[19] = 38.000\n"
          ]
        }
      ]
    },
    {
      "cell_type": "markdown",
      "source": [
        "pytorch modules"
      ],
      "metadata": {
        "id": "3LQ4EKtDZf-m"
      }
    },
    {
      "cell_type": "code",
      "source": [
        "import torch\n",
        "import torch.nn as nn"
      ],
      "metadata": {
        "id": "DYHGUnqQaxv2"
      },
      "execution_count": 6,
      "outputs": []
    },
    {
      "cell_type": "code",
      "source": [
        "x = torch.tensor([[1],[2],[3],[4],[5],[6]], dtype=torch.float32)\n",
        "y= torch.tensor([[2],[4],[6],[8],[10],[12]], dtype=torch.float32)"
      ],
      "metadata": {
        "id": "_F2VhNXkP9te"
      },
      "execution_count": 2,
      "outputs": []
    },
    {
      "cell_type": "code",
      "source": [
        "n_samples, n_features = x.shape"
      ],
      "metadata": {
        "id": "yWxYCXuXaLBv"
      },
      "execution_count": 3,
      "outputs": []
    },
    {
      "cell_type": "code",
      "source": [
        "(n_samples, n_features)"
      ],
      "metadata": {
        "colab": {
          "base_uri": "https://localhost:8080/"
        },
        "id": "UzhBtY0yaRQQ",
        "outputId": "37fffa8b-41cf-477b-ed2f-57c7a4fa74d6"
      },
      "execution_count": 4,
      "outputs": [
        {
          "output_type": "execute_result",
          "data": {
            "text/plain": [
              "(6, 1)"
            ]
          },
          "metadata": {},
          "execution_count": 4
        }
      ]
    },
    {
      "cell_type": "code",
      "source": [
        "x_test = torch.tensor([5], dtype=torch.float32)"
      ],
      "metadata": {
        "id": "k9cuCJWFafzA"
      },
      "execution_count": 5,
      "outputs": []
    },
    {
      "cell_type": "code",
      "source": [
        "#defining mode\n",
        "\n",
        "class liner_reggression(nn.Module):\n",
        "  def __init__(self, input_dim,output_dim):\n",
        "    super(liner_reggression, self).__init__()\n",
        "\n",
        "    self.lin = nn.Linear(input_dim, output_dim)\n",
        "\n",
        "  def forward(self, x):\n",
        "    return self.lin(x)\n",
        "\n",
        "input_size, output_size = n_features, n_features\n",
        "\n",
        "model = liner_reggression(input_size, output_size)\n",
        "\n",
        "print(f'{model(x_test).item():.3f}')"
      ],
      "metadata": {
        "colab": {
          "base_uri": "https://localhost:8080/"
        },
        "id": "zIAsjiE8asOX",
        "outputId": "ebf6d66b-5d30-4fd8-9ee3-4f22cdf0dcb1"
      },
      "execution_count": 9,
      "outputs": [
        {
          "output_type": "stream",
          "name": "stdout",
          "text": [
            "-4.484\n"
          ]
        }
      ]
    },
    {
      "cell_type": "code",
      "source": [
        "learning_rate = 0.001\n",
        "n_epochs = 100\n",
        "\n",
        "loss = nn.MSELoss()\n",
        "optimizer = torch.optim.Adam(model.parameters(), lr=learning_rate)"
      ],
      "metadata": {
        "id": "7tVbJ42bcVXG"
      },
      "execution_count": 10,
      "outputs": []
    },
    {
      "cell_type": "code",
      "source": [
        "for epoch in range(n_epochs):\n",
        "\n",
        "  y_pred = model(x)\n",
        "\n",
        "  l = loss(y, y_pred)\n",
        "\n",
        "  l.backward()\n",
        "\n",
        "  optimizer.step()\n",
        "\n",
        "  optimizer.zero_grad()\n",
        "\n",
        "  if (epoch+1) %10 == 0:\n",
        "    [w, b] = model.parameters()\n",
        "    print(f'epoch {epoch+1}: w = {w[0][0].item():.3f}, loss = {l.item():.3f}')"
      ],
      "metadata": {
        "colab": {
          "base_uri": "https://localhost:8080/"
        },
        "id": "ANOpV5Kgc440",
        "outputId": "5c9446c5-2845-4b19-f6ac-a1068ef833f6"
      },
      "execution_count": 75,
      "outputs": [
        {
          "output_type": "stream",
          "name": "stdout",
          "text": [
            "epoch 10: w = 1.555, loss = 0.659\n",
            "epoch 20: w = 1.555, loss = 0.656\n",
            "epoch 30: w = 1.556, loss = 0.654\n",
            "epoch 40: w = 1.557, loss = 0.651\n",
            "epoch 50: w = 1.558, loss = 0.648\n",
            "epoch 60: w = 1.559, loss = 0.645\n",
            "epoch 70: w = 1.560, loss = 0.642\n",
            "epoch 80: w = 1.561, loss = 0.640\n",
            "epoch 90: w = 1.562, loss = 0.637\n",
            "epoch 100: w = 1.563, loss = 0.634\n"
          ]
        }
      ]
    },
    {
      "cell_type": "code",
      "source": [],
      "metadata": {
        "id": "-trNBci1dYSC"
      },
      "execution_count": null,
      "outputs": []
    },
    {
      "cell_type": "markdown",
      "source": [
        "first nn"
      ],
      "metadata": {
        "id": "weLkRYIMd7GW"
      }
    },
    {
      "cell_type": "code",
      "source": [
        "import torch\n",
        "import torch.nn as nn\n",
        "import torchvision\n",
        "import torchvision.transforms as transforms\n",
        "import matplotlib.pyplot as plt\n"
      ],
      "metadata": {
        "id": "ry7gXaR4d83g"
      },
      "execution_count": 2,
      "outputs": []
    },
    {
      "cell_type": "code",
      "source": [
        "device = torch.device('cuda' if torch.cuda.is_available() else 'cpu')"
      ],
      "metadata": {
        "id": "Ou9L7VseeURh"
      },
      "execution_count": 3,
      "outputs": []
    },
    {
      "cell_type": "code",
      "source": [
        "device"
      ],
      "metadata": {
        "colab": {
          "base_uri": "https://localhost:8080/"
        },
        "id": "rEj9k-Nfefb5",
        "outputId": "35053593-acd6-4d39-bca4-3928b589d878"
      },
      "execution_count": 4,
      "outputs": [
        {
          "output_type": "execute_result",
          "data": {
            "text/plain": [
              "device(type='cuda')"
            ]
          },
          "metadata": {},
          "execution_count": 4
        }
      ]
    },
    {
      "cell_type": "code",
      "source": [
        "input_size = 784\n",
        "hidden_size = 500\n",
        "num_clases = 10\n",
        "num_epochs = 2\n",
        "batch_size = 100\n",
        "learning_rate = 0.001"
      ],
      "metadata": {
        "id": "LNZrhc_tegl_"
      },
      "execution_count": 5,
      "outputs": []
    },
    {
      "cell_type": "code",
      "source": [
        "trrain_dataset = torchvision.datasets.MNIST(root='./data', train=True, transform=transforms.ToTensor(),download=True)\n",
        "test_dataset = torchvision.datasets.MNIST(root='./data', train=False, transform=transforms.ToTensor())\n"
      ],
      "metadata": {
        "colab": {
          "base_uri": "https://localhost:8080/"
        },
        "id": "4kHFIzeQlE6_",
        "outputId": "2ae46e92-2cff-4551-d0fe-9d9953c1fc33"
      },
      "execution_count": 6,
      "outputs": [
        {
          "output_type": "stream",
          "name": "stderr",
          "text": [
            "100%|██████████| 9.91M/9.91M [00:02<00:00, 4.58MB/s]\n",
            "100%|██████████| 28.9k/28.9k [00:00<00:00, 130kB/s]\n",
            "100%|██████████| 1.65M/1.65M [00:01<00:00, 1.25MB/s]\n",
            "100%|██████████| 4.54k/4.54k [00:00<00:00, 7.45MB/s]\n"
          ]
        }
      ]
    },
    {
      "cell_type": "code",
      "source": [
        "train_loader = torch.utils.data.DataLoader(dataset=trrain_dataset, batch_size=batch_size, shuffle=True)\n",
        "test_loader = torch.utils.data.DataLoader(dataset=test_dataset, batch_size=batch_size, shuffle=False)"
      ],
      "metadata": {
        "id": "Xy6zF3vwl_0Y"
      },
      "execution_count": 7,
      "outputs": []
    },
    {
      "cell_type": "code",
      "source": [
        "#pipeline\n",
        "\n",
        "class NeuralNet(nn.Module):\n",
        "  def __init__(self, input_size, hidden_size, Num_classes):\n",
        "    super(NeuralNet, self).__init__()\n",
        "    self.l1 = nn.Linear(input_size, hidden_size)\n",
        "    self.relu = nn.ReLU()\n",
        "    self.l2 = nn.Linear(hidden_size, Num_classes)\n",
        "\n",
        "  def forward(self, x):\n",
        "    out = self.l1(x)\n",
        "    out = self.relu(out)\n",
        "    out = self.l2(out)\n",
        "    return out\n",
        "\n"
      ],
      "metadata": {
        "id": "Yp2B-68sme58"
      },
      "execution_count": 8,
      "outputs": []
    },
    {
      "cell_type": "code",
      "source": [
        "model = NeuralNet(input_size, hidden_size, num_clases).to(device)"
      ],
      "metadata": {
        "id": "XBJrMHvGoAwz"
      },
      "execution_count": 9,
      "outputs": []
    },
    {
      "cell_type": "code",
      "source": [
        "criteria = nn.CrossEntropyLoss()\n",
        "optimizer = torch.optim.Adam(model.parameters(), lr=learning_rate)"
      ],
      "metadata": {
        "id": "12Le7mEgoCDk"
      },
      "execution_count": 10,
      "outputs": []
    },
    {
      "cell_type": "code",
      "source": [
        "n_total_steps = len(train_loader)\n",
        "\n",
        "for  epochs in range(num_epochs):\n",
        "  for i, (images,labels) in enumerate(train_loader):\n",
        "\n",
        "    images = images.reshape(-1, 28*28).to(device)\n",
        "    labels = labels.to(device)\n",
        "\n",
        "    outputs = model(images)\n",
        "    loss = criteria(outputs, labels)\n",
        "\n",
        "    loss.backward()\n",
        "\n",
        "    optimizer.step()\n",
        "\n",
        "    optimizer.zero_grad()\n",
        "\n",
        "    if (i+1) % 100 == 0:\n",
        "      print(f'epoch {epochs+1}/{num_epochs}, step {i+1}/{n_total_steps}, loss: {loss}')\n",
        "\n"
      ],
      "metadata": {
        "colab": {
          "base_uri": "https://localhost:8080/"
        },
        "id": "7bKSkt_LoPIO",
        "outputId": "f7eab255-f4de-4ea8-d531-f27d93bafa1d"
      },
      "execution_count": 17,
      "outputs": [
        {
          "output_type": "stream",
          "name": "stdout",
          "text": [
            "epoch 1/2, step 100/600, loss: 0.07930468022823334\n",
            "epoch 1/2, step 200/600, loss: 0.040028370916843414\n",
            "epoch 1/2, step 300/600, loss: 0.05148552730679512\n",
            "epoch 1/2, step 400/600, loss: 0.061820950359106064\n",
            "epoch 1/2, step 500/600, loss: 0.03035832569003105\n",
            "epoch 1/2, step 600/600, loss: 0.07002155482769012\n",
            "epoch 2/2, step 100/600, loss: 0.0733945295214653\n",
            "epoch 2/2, step 200/600, loss: 0.020377719774842262\n",
            "epoch 2/2, step 300/600, loss: 0.09652768075466156\n",
            "epoch 2/2, step 400/600, loss: 0.15844762325286865\n",
            "epoch 2/2, step 500/600, loss: 0.03766988590359688\n",
            "epoch 2/2, step 600/600, loss: 0.032216574996709824\n"
          ]
        }
      ]
    },
    {
      "cell_type": "code",
      "source": [
        "#validate\n",
        "\n",
        "with torch.no_grad():\n",
        "  n_correct = 0\n",
        "  n_samples = len(test_loader.dataset)\n",
        "\n",
        "  for images, labels in test_loader:\n",
        "    images = images.reshape(-1, 28*28).to(device)\n",
        "    labels = labels.to(device)\n",
        "    outputs = model(images)\n",
        "\n",
        "    _, predicted = torch.max(outputs, 1)\n",
        "    n_correct += (predicted == labels).sum().item()\n",
        "\n",
        "  acc = 100.0 * n_correct / n_samples\n",
        "  print(f'Accuracy = {acc}')"
      ],
      "metadata": {
        "colab": {
          "base_uri": "https://localhost:8080/"
        },
        "id": "_sAKdjqbp_y-",
        "outputId": "7b214d41-8557-4f6d-e252-0628f9518f03"
      },
      "execution_count": 18,
      "outputs": [
        {
          "output_type": "stream",
          "name": "stdout",
          "text": [
            "Accuracy = 97.72\n"
          ]
        }
      ]
    }
  ]
}