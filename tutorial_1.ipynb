{
  "nbformat": 4,
  "nbformat_minor": 0,
  "metadata": {
    "colab": {
      "provenance": [],
      "gpuType": "T4",
      "authorship_tag": "ABX9TyPZdkwAmKPgRJ0bq65vZ+14",
      "include_colab_link": true
    },
    "kernelspec": {
      "name": "python3",
      "display_name": "Python 3"
    },
    "language_info": {
      "name": "python"
    },
    "accelerator": "GPU"
  },
  "cells": [
    {
      "cell_type": "markdown",
      "metadata": {
        "id": "view-in-github",
        "colab_type": "text"
      },
      "source": [
        "<a href=\"https://colab.research.google.com/github/Ihalagedara/pytorch-deep-learning/blob/main/tutorial_1.ipynb\" target=\"_parent\"><img src=\"https://colab.research.google.com/assets/colab-badge.svg\" alt=\"Open In Colab\"/></a>"
      ]
    },
    {
      "cell_type": "code",
      "execution_count": null,
      "metadata": {
        "id": "tUcWtusXwuKu"
      },
      "outputs": [],
      "source": [
        "import torch\n",
        "import torch.nn as nn\n",
        "import torch.nn.functional as F\n",
        "import torch.optim as optim"
      ]
    },
    {
      "cell_type": "code",
      "source": [
        "class Model(nn.Module):\n",
        "  def __init__(self,in_features=4,h1=8,h2=9,output=3):\n",
        "    super().__init__()\n",
        "    self.fc1 = nn.Linear(in_features,h1)\n",
        "    self.fc2 = nn.Linear(h1,h2)\n",
        "    self.out = nn.Linear(h2,output)\n",
        "\n",
        "  def forward(self,x):\n",
        "    x = F.relu(self.fc1(x))\n",
        "    x = F.relu(self.fc2(x))\n",
        "    x = self.out(x)\n",
        "    return x\n",
        "\n"
      ],
      "metadata": {
        "id": "Ecc2oUQSyoK5"
      },
      "execution_count": null,
      "outputs": []
    },
    {
      "cell_type": "code",
      "source": [
        "torch.manual_seed(32)\n",
        "model = Model()"
      ],
      "metadata": {
        "id": "kZ13CAGW3k4O"
      },
      "execution_count": null,
      "outputs": []
    },
    {
      "cell_type": "code",
      "source": [
        "import pandas as pd\n",
        "import matplotlib.pyplot as plt\n",
        "%matplotlib inline"
      ],
      "metadata": {
        "id": "CP9Puz_E33pk"
      },
      "execution_count": null,
      "outputs": []
    },
    {
      "cell_type": "code",
      "source": [
        "url = 'https://raw.githubusercontent.com/amankharwal/Website-data/master/IRIS.csv'\n",
        "df = pd.read_csv(url)"
      ],
      "metadata": {
        "id": "cgDHK7xs4f4-"
      },
      "execution_count": null,
      "outputs": []
    },
    {
      "cell_type": "code",
      "source": [
        "df['species'] = df['species'].replace({'Iris-setosa':0,'Iris-versicolor':1,'Iris-virginica':2})"
      ],
      "metadata": {
        "colab": {
          "base_uri": "https://localhost:8080/"
        },
        "id": "uokD4YbV5Rrz",
        "outputId": "b0786c77-25fc-4d61-e43b-e85ef444aae1"
      },
      "execution_count": null,
      "outputs": [
        {
          "output_type": "stream",
          "name": "stderr",
          "text": [
            "<ipython-input-25-cb9bccdfb3d6>:1: FutureWarning: Downcasting behavior in `replace` is deprecated and will be removed in a future version. To retain the old behavior, explicitly call `result.infer_objects(copy=False)`. To opt-in to the future behavior, set `pd.set_option('future.no_silent_downcasting', True)`\n",
            "  df['species'] = df['species'].replace({'Iris-setosa':0,'Iris-versicolor':1,'Iris-virginica':2})\n"
          ]
        }
      ]
    },
    {
      "cell_type": "code",
      "source": [
        "X = df.drop('species',axis=1)\n",
        "y = df['species']"
      ],
      "metadata": {
        "id": "V8qSMfxX5cZi"
      },
      "execution_count": null,
      "outputs": []
    },
    {
      "cell_type": "code",
      "source": [
        "X = X.values\n",
        "y = y.values"
      ],
      "metadata": {
        "id": "aoJrQuVM5uxz"
      },
      "execution_count": null,
      "outputs": []
    },
    {
      "cell_type": "code",
      "source": [
        "from sklearn.model_selection import train_test_split"
      ],
      "metadata": {
        "id": "IbwSqFAF5z6k"
      },
      "execution_count": null,
      "outputs": []
    },
    {
      "cell_type": "code",
      "source": [
        "X_train, X_test, y_train, y_test = train_test_split(X,y,test_size=0.2,random_state=32)"
      ],
      "metadata": {
        "id": "ZMxZRFAr57Qk"
      },
      "execution_count": null,
      "outputs": []
    },
    {
      "cell_type": "code",
      "source": [
        "X_train = torch.FloatTensor(X_train)\n",
        "X_test = torch.FloatTensor(X_test)\n",
        "y_train = torch.LongTensor(y_train)\n",
        "y_test = torch.LongTensor(y_test)"
      ],
      "metadata": {
        "id": "HxqUd-C_6NmD"
      },
      "execution_count": null,
      "outputs": []
    },
    {
      "cell_type": "code",
      "source": [
        "criteria = nn.CrossEntropyLoss()\n",
        "opt = torch.optim.Adam(model.parameters(), lr=0.01)"
      ],
      "metadata": {
        "id": "mQj7omBR6WEF"
      },
      "execution_count": null,
      "outputs": []
    },
    {
      "cell_type": "code",
      "source": [
        "epocs = 100\n",
        "losses = []\n",
        "for i in range(epocs):\n",
        "  y_pred = model.forward(X_train)\n",
        "  loss = criteria(y_pred,y_train)\n",
        "  losses.append(loss.detach().numpy())\n",
        "\n",
        "  if i%10 == 0:\n",
        "    print(f'Epoch: {i} Loss: {loss}')\n",
        "\n",
        "  opt.zero_grad()\n",
        "  loss.backward()\n",
        "  opt.step()\n"
      ],
      "metadata": {
        "colab": {
          "base_uri": "https://localhost:8080/"
        },
        "id": "cldJMCAz7aNl",
        "outputId": "8821fd59-ca5b-407c-a653-545dad2cdde3"
      },
      "execution_count": null,
      "outputs": [
        {
          "output_type": "stream",
          "name": "stdout",
          "text": [
            "Epoch: 0 Loss: 1.169895887374878\n",
            "Epoch: 10 Loss: 0.9578844308853149\n",
            "Epoch: 20 Loss: 0.7988812923431396\n",
            "Epoch: 30 Loss: 0.634953498840332\n",
            "Epoch: 40 Loss: 0.44043001532554626\n",
            "Epoch: 50 Loss: 0.29171693325042725\n",
            "Epoch: 60 Loss: 0.17829042673110962\n",
            "Epoch: 70 Loss: 0.11587585508823395\n",
            "Epoch: 80 Loss: 0.08928148448467255\n",
            "Epoch: 90 Loss: 0.07743765413761139\n"
          ]
        }
      ]
    },
    {
      "cell_type": "code",
      "source": [
        "plt.plot(range(epocs),losses)\n",
        "plt.ylabel('Loss')\n",
        "plt.xlabel('Epochs')"
      ],
      "metadata": {
        "colab": {
          "base_uri": "https://localhost:8080/",
          "height": 466
        },
        "id": "9KPZwE6385zU",
        "outputId": "ea25c84e-0c33-4e66-acd0-81be49009261"
      },
      "execution_count": null,
      "outputs": [
        {
          "output_type": "execute_result",
          "data": {
            "text/plain": [
              "Text(0.5, 0, 'Epochs')"
            ]
          },
          "metadata": {},
          "execution_count": 33
        },
        {
          "output_type": "display_data",
          "data": {
            "text/plain": [
              "<Figure size 640x480 with 1 Axes>"
            ],
            "image/png": "[encoded data removed]"
          },
          "metadata": {}
        }
      ]
    },
    {
      "cell_type": "code",
      "source": [
        "with torch.no_grad():\n",
        "  y_ecal = model.forward(X_test)\n",
        "  loss_e = criteria(y_ecal,y_test)"
      ],
      "metadata": {
        "id": "BBKFzx079MEs"
      },
      "execution_count": null,
      "outputs": []
    },
    {
      "cell_type": "code",
      "source": [
        "loss_e"
      ],
      "metadata": {
        "colab": {
          "base_uri": "https://localhost:8080/"
        },
        "id": "ya175jq_di--",
        "outputId": "37cfaba3-8f68-49db-ccd6-b380df3923b0"
      },
      "execution_count": null,
      "outputs": [
        {
          "output_type": "execute_result",
          "data": {
            "text/plain": [
              "tensor(0.0539)"
            ]
          },
          "metadata": {},
          "execution_count": 35
        }
      ]
    },
    {
      "cell_type": "code",
      "source": [
        "correct = 0\n",
        "with torch.no_grad():\n",
        "  for i,data in enumerate(X_test):\n",
        "    y_val = model.forward(data)\n",
        "    print(f'{i+1:2}. {str(y_val):38} {y_test[i]}')\n",
        "\n",
        "    if y_val.argmax().item() == y_test[i]:\n",
        "      correct += 1\n",
        "print(f'\\n{correct} out of {len(y_test)} correct')"
      ],
      "metadata": {
        "colab": {
          "base_uri": "https://localhost:8080/"
        },
        "id": "CheP5sjRdzee",
        "outputId": "222e55e9-1259-4573-fbd8-8d2715cd6e20"
      },
      "execution_count": null,
      "outputs": [
        {
          "output_type": "stream",
          "name": "stdout",
          "text": [
            " 1. tensor([-3.3580,  3.9452,  0.3616])    1\n",
            " 2. tensor([  7.5862,   1.1113, -11.3861]) 0\n",
            " 3. tensor([  6.6288,   1.5092, -10.4603]) 0\n",
            " 4. tensor([-3.3305,  4.2647,  0.0569])    1\n",
            " 5. tensor([-7.3705,  2.8135,  5.1481])    2\n",
            " 6. tensor([-7.3749,  3.9061,  4.2781])    2\n",
            " 7. tensor([  6.2304,   1.6527, -10.0543]) 0\n",
            " 8. tensor([  6.8783,   1.4056, -10.7016]) 0\n",
            " 9. tensor([-2.6728,  4.3138, -0.6444])    1\n",
            "10. tensor([  7.2201,   1.3890, -11.1494]) 0\n",
            "11. tensor([-3.8269,  4.4110,  0.5165])    1\n",
            "12. tensor([-8.6886,  1.9990,  6.9012])    2\n",
            "13. tensor([-2.0605,  3.8275, -0.7672])    1\n",
            "14. tensor([-1.0676,  4.3809, -2.2975])    1\n",
            "15. tensor([-7.5000,  2.6230,  5.3318])    2\n",
            "16. tensor([-8.6214,  1.5491,  7.1280])    2\n",
            "17. tensor([-3.7724,  3.6503,  0.9422])    1\n",
            "18. tensor([-6.7624,  2.7791,  4.5289])    2\n",
            "19. tensor([-1.6978,  4.2047, -1.4772])    1\n",
            "20. tensor([  7.8104,   1.3824, -11.9435]) 0\n",
            "21. tensor([  6.9175,   1.5954, -10.9322]) 0\n",
            "22. tensor([-9.4323,  2.7058,  7.2346])    2\n",
            "23. tensor([-5.7703,  3.0159,  3.3488])    2\n",
            "24. tensor([  6.7894,   1.3532, -10.5322]) 0\n",
            "25. tensor([  6.8259,   1.0698, -10.3167]) 0\n",
            "26. tensor([-1.4315,  4.3274, -1.9046])    1\n",
            "27. tensor([  7.9001,   1.2810, -11.9702]) 0\n",
            "28. tensor([-9.8161,  1.7077,  8.1757])    2\n",
            "29. tensor([  7.4112,   1.3948, -11.4139]) 0\n",
            "30. tensor([  7.2116,   1.4010, -11.1491]) 0\n",
            "\n",
            "30 out of 30 correct\n"
          ]
        }
      ]
    },
    {
      "cell_type": "code",
      "source": [],
      "metadata": {
        "id": "u7JjO4hUeTmW"
      },
      "execution_count": null,
      "outputs": []
    }
  ]
}